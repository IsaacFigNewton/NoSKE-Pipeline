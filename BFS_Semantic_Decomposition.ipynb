{
  "nbformat": 4,
  "nbformat_minor": 0,
  "metadata": {
    "colab": {
      "provenance": [],
      "authorship_tag": "ABX9TyMO14Hyjx7U9SsqKN/fG8k8",
      "include_colab_link": true
    },
    "kernelspec": {
      "name": "python3",
      "display_name": "Python 3"
    },
    "language_info": {
      "name": "python"
    }
  },
  "cells": [
    {
      "cell_type": "markdown",
      "metadata": {
        "id": "view-in-github",
        "colab_type": "text"
      },
      "source": [
        "<a href=\"https://colab.research.google.com/github/IsaacFigNewton/SMIED/blob/main/BFS_Semantic_Decomposition.ipynb\" target=\"_parent\"><img src=\"https://colab.research.google.com/assets/colab-badge.svg\" alt=\"Open In Colab\"/></a>"
      ]
    },
    {
      "cell_type": "code",
      "source": [
        "\"\"\"\n",
        "Semantic decomposition of (\"cat\", \"eats\", \"mouse\") using WordNet + spaCy + depth-limited GBFS.\n",
        "- Uses spaCy to parse verb synset glosses and detect subject/object dependencies.\n",
        "- If both subject and object tokens are present, branches directly toward original triple synsets.\n",
        "- Otherwise falls back to WordNet relations.\n",
        "\"\"\"\n",
        "\n",
        "import nltk\n",
        "import spacy\n",
        "from nltk.corpus import wordnet as wn\n",
        "from nltk.wsd import lesk\n",
        "from heapq import heappush, heappop"
      ],
      "metadata": {
        "id": "Jb_gtRCvh-DF"
      },
      "execution_count": 27,
      "outputs": []
    },
    {
      "cell_type": "code",
      "source": [
        "nltk.download('wordnet')\n",
        "\n",
        "# Load spaCy English model for dependency parsing\n",
        "nlp = spacy.load(\"en_core_web_sm\")"
      ],
      "metadata": {
        "colab": {
          "base_uri": "https://localhost:8080/"
        },
        "id": "Hj4iZlAfh_t8",
        "outputId": "b47b4447-38f8-47fb-a7e3-c3911277dbde"
      },
      "execution_count": 2,
      "outputs": [
        {
          "output_type": "stream",
          "name": "stderr",
          "text": [
            "[nltk_data] Downloading package wordnet to /root/nltk_data...\n"
          ]
        }
      ]
    },
    {
      "cell_type": "code",
      "execution_count": 35,
      "metadata": {
        "id": "GZ7mH1XuhtBN"
      },
      "outputs": [],
      "source": [
        "def path_syn_to_syn(start_synset, end_synset, max_depth=6):\n",
        "    \"\"\"\n",
        "    Get neighbors for a synset.\n",
        "    \"\"\"\n",
        "\n",
        "    assert start_synset.pos() == end_synset.pos() and start_synset.pos() in {'n', 'v'}\n",
        "\n",
        "    # DFS\n",
        "    queue = [(start_synset, 0)]\n",
        "    while queue:\n",
        "        curr_synset, curr_depth = queue.pop()\n",
        "        # if a path has been found\n",
        "        if curr_synset.name() == end_synset.name():\n",
        "            return [curr_synset.name()]\n",
        "        # if no path was found\n",
        "        elif curr_depth > max_depth:\n",
        "            return None\n",
        "        else:\n",
        "            queue.extend(curr_synset.hypernyms())\n",
        "            queue.extend(curr_synset.hyponyms())\n",
        "            if start_synset.pos() == 'n':\n",
        "                neighbors = list(get_noun_neighbors(curr_synset))\n",
        "                neighbors_depths = [(n, curr_depth+1) for n in neighbors]\n",
        "                queue.extend(neighbors_depths)\n",
        "            else:\n",
        "                neighbors = list(get_verb_neighbors(curr_synset))\n",
        "                neighbors_depths = [(n, curr_depth+1) for n in neighbors]\n",
        "                queue.extend(neighbors_depths)\n",
        "\n",
        "\n",
        "\n",
        "def get_noun_neighbors(syn):\n",
        "    \"\"\"\n",
        "    Get neighbors for a synset.\n",
        "    \"\"\"\n",
        "    nbrs = set()\n",
        "    nbrs.update(syn.part_meronyms())\n",
        "    nbrs.update(syn.substance_meronyms())\n",
        "    nbrs.update(syn.member_meronyms())\n",
        "    nbrs.update(syn.part_holonyms())\n",
        "    nbrs.update(syn.substance_holonyms())\n",
        "    nbrs.update(syn.member_holonyms())\n",
        "    return nbrs\n",
        "\n",
        "def get_verb_neighbors(syn):\n",
        "    \"\"\"\n",
        "    Get neighbors for a synset.\n",
        "    \"\"\"\n",
        "    nbrs = set()\n",
        "    nbrs.update(syn.entailments())\n",
        "    nbrs.update(syn.causes())\n",
        "    nbrs.update(syn.also_sees())\n",
        "    nbrs.update(syn.verb_groups())\n",
        "    return nbrs\n",
        "\n",
        "\n",
        "def bfs(start_synset=None, end_synset=None, max_depth=6):\n",
        "    \"\"\"\n",
        "    Get neighbors for a synset.\n",
        "    If start_synset is a verb and end_synset is a noun,\n",
        "        parse its gloss with spaCy and check for nsubj/dobj tokens.\n",
        "    If both found, branch toward subject/object synsets directly.\n",
        "\n",
        "    If start_synset is a noun and end_synset is a verb,\n",
        "        parse its gloss with SpaCy and check for verb relations.\n",
        "    If found, branch toward verb hypernyms/hyponyms/etc.\n",
        "\n",
        "    Otherwise, fall back to WordNet relations.\n",
        "    \"\"\"\n",
        "\n",
        "    assert start_synset.pos() != end_synset.pos() and start_synset.pos() in {'n', 'v'}\n",
        "\n",
        "    if start_synset and end_synset:\n",
        "        # if it's a subject-predicate pairing\n",
        "        if start_synset.pos() == 'n':\n",
        "            # get gloss of predicate\n",
        "            pred_gloss_doc = nlp(end_synset.definition())\n",
        "            subjs = [tok for tok in pred_gloss_doc if tok.dep_ == \"nsubj\"]\n",
        "            preds = [tok for tok in pred_gloss_doc if tok.pos_ == \"VERB\"]\n",
        "            objs = [tok for tok in pred_gloss_doc if tok.dep_ == \"dobj\"]\n",
        "            if len(preds)>0 and len(subjs)>0:\n",
        "                return [start_synset] + path_syn_to_syn(\n",
        "                    start_synset,\n",
        "                    lesk(pred_gloss_doc.text, subjs[0], pos='n'),\n",
        "                    max_depth=max_depth,\n",
        "                )\n",
        "\n",
        "        # if it's a predicate-object pairing\n",
        "        if start_synset.pos() == 'v':\n",
        "            # get gloss of predicate\n",
        "            pred_gloss_doc = nlp(start_synset.definition())\n",
        "            subjs = [tok for tok in pred_gloss_doc if tok.dep_ == \"nsubj\"]\n",
        "            preds = [tok for tok in pred_gloss_doc if tok.pos_ == \"VERB\"]\n",
        "            objs = [tok for tok in pred_gloss_doc if tok.dep_ == \"dobj\"]\n",
        "            if len(subjs)>0 and len(objs)>0:\n",
        "                return [start_synset] + path_syn_to_syn(\n",
        "                    lesk(pred_gloss_doc.text, objs[0], pos='n'),\n",
        "                    end_synset,\n",
        "                    max_depth=max_depth,\n",
        "                )\n",
        "\n",
        "# Gather synsets\n",
        "cat_synsets = wn.synsets(\"cat\", pos=wn.NOUN)\n",
        "mouse_synsets = wn.synsets(\"mouse\", pos=wn.NOUN)\n",
        "eat_synsets = wn.synsets(\"eat\", pos=wn.VERB)\n",
        "\n",
        "# Run BFS from subject and object\n",
        "cat_paths = list()\n",
        "mouse_paths = list()\n",
        "for eat in eat_synsets:\n",
        "  for cat in cat_synsets:\n",
        "    cat_path = bfs(\n",
        "        cat,\n",
        "        eat,\n",
        "        max_depth=10\n",
        "    )\n",
        "    if cat_path:\n",
        "      cat_paths.append(cat_path)\n",
        "  for mouse in mouse_synsets:\n",
        "    mouse_path = bfs(\n",
        "        eat,\n",
        "        mouse,\n",
        "        max_depth=10\n",
        "    )\n",
        "    if mouse_path:\n",
        "      mouse_paths.append(mouse_path)\n",
        "\n",
        "# get the shortest cat and mouse paths\n",
        "cat_path = min(cat_paths, key=len)\n",
        "mouse_path = min(mouse_paths, key=len)\n",
        "\n",
        "# Pretty print\n",
        "def show_path(label, path):\n",
        "    if path:\n",
        "        print(f\"{label}:\")\n",
        "        print(\" -> \".join(f\"{s.name()} ({s.definition()})\" for s in path))\n",
        "        print()\n",
        "\n",
        "show_path(\"Path from 'cat' to 'eat' (actor slot)\", cat_path)\n",
        "show_path(\"Path from 'mouse' to 'eat' (object slot)\", mouse_path)"
      ]
    },
    {
      "cell_type": "code",
      "source": [],
      "metadata": {
        "colab": {
          "base_uri": "https://localhost:8080/",
          "height": 211
        },
        "id": "valgVwQUh0SJ",
        "outputId": "8a1ff492-22b0-40de-acce-c96c34e1e70f"
      },
      "execution_count": 39,
      "outputs": [
        {
          "output_type": "error",
          "ename": "ValueError",
          "evalue": "min() iterable argument is empty",
          "traceback": [
            "\u001b[0;31m---------------------------------------------------------------------------\u001b[0m",
            "\u001b[0;31mValueError\u001b[0m                                Traceback (most recent call last)",
            "\u001b[0;32m/tmp/ipython-input-1037314649.py\u001b[0m in \u001b[0;36m<cell line: 0>\u001b[0;34m()\u001b[0m\n\u001b[1;32m     26\u001b[0m \u001b[0;34m\u001b[0m\u001b[0m\n\u001b[1;32m     27\u001b[0m \u001b[0;31m# get the shortest cat and mouse paths\u001b[0m\u001b[0;34m\u001b[0m\u001b[0;34m\u001b[0m\u001b[0m\n\u001b[0;32m---> 28\u001b[0;31m \u001b[0mcat_path\u001b[0m \u001b[0;34m=\u001b[0m \u001b[0mmin\u001b[0m\u001b[0;34m(\u001b[0m\u001b[0mcat_paths\u001b[0m\u001b[0;34m,\u001b[0m \u001b[0mkey\u001b[0m\u001b[0;34m=\u001b[0m\u001b[0mlen\u001b[0m\u001b[0;34m)\u001b[0m\u001b[0;34m\u001b[0m\u001b[0;34m\u001b[0m\u001b[0m\n\u001b[0m\u001b[1;32m     29\u001b[0m \u001b[0mmouse_path\u001b[0m \u001b[0;34m=\u001b[0m \u001b[0mmin\u001b[0m\u001b[0;34m(\u001b[0m\u001b[0mmouse_paths\u001b[0m\u001b[0;34m,\u001b[0m \u001b[0mkey\u001b[0m\u001b[0;34m=\u001b[0m\u001b[0mlen\u001b[0m\u001b[0;34m)\u001b[0m\u001b[0;34m\u001b[0m\u001b[0;34m\u001b[0m\u001b[0m\n\u001b[1;32m     30\u001b[0m \u001b[0;34m\u001b[0m\u001b[0m\n",
            "\u001b[0;31mValueError\u001b[0m: min() iterable argument is empty"
          ]
        }
      ]
    },
    {
      "cell_type": "code",
      "source": [],
      "metadata": {
        "id": "EMRfljk7h1no"
      },
      "execution_count": null,
      "outputs": []
    }
  ]
}